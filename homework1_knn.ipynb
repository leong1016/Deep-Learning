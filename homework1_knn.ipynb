{
  "nbformat": 4,
  "nbformat_minor": 0,
  "metadata": {
    "colab": {
      "name": "homework1_knn.ipynb",
      "version": "0.3.2",
      "provenance": [],
      "collapsed_sections": [],
      "toc_visible": true,
      "include_colab_link": true
    },
    "kernelspec": {
      "display_name": "Python 3",
      "language": "python",
      "name": "python3"
    }
  },
  "cells": [
    {
      "cell_type": "markdown",
      "metadata": {
        "id": "view-in-github",
        "colab_type": "text"
      },
      "source": [
        "[View in Colaboratory](https://colab.research.google.com/github/leong1016/Deep-Learning/blob/master/homework1_knn.ipynb)"
      ]
    },
    {
      "metadata": {
        "id": "6XpmUtUKYiVF",
        "colab_type": "text"
      },
      "cell_type": "markdown",
      "source": [
        "# Homework 1: Classifiers"
      ]
    },
    {
      "metadata": {
        "id": "mo0UK_pG6IeJ",
        "colab_type": "text"
      },
      "cell_type": "markdown",
      "source": [
        "## k-Nearest Neighbor (kNN) Classifier\n",
        "\n",
        "The kNN classifier consists of two stages:\n",
        "\n",
        "- During training, the classifier takes the training data and simply remembers it.\n",
        "- During testing, kNN classifies every test image by comparing to all training images and transfering the most frequent class from the `k` most similar training examples.\n",
        "- The value of k is cross-validated.\n",
        "\n",
        "In this exercise you will implement these steps.  You will also gain experience with the basic Image Classification pipeline and cross-validation, and gain proficiency in writing efficient, vectorized code."
      ]
    },
    {
      "metadata": {
        "id": "xGw5h4fG6IeL",
        "colab_type": "code",
        "colab": {}
      },
      "cell_type": "code",
      "source": [
        "import numpy as np\n",
        "import matplotlib.pyplot as plt\n",
        "import seaborn as sns\n",
        "\n",
        "sns.set()"
      ],
      "execution_count": 0,
      "outputs": []
    },
    {
      "metadata": {
        "id": "UwlxbbdnPvCc",
        "colab_type": "text"
      },
      "cell_type": "markdown",
      "source": [
        "## Load CIFAR-10 dataset"
      ]
    },
    {
      "metadata": {
        "id": "tz244vPe6IeO",
        "colab_type": "code",
        "colab": {
          "base_uri": "https://localhost:8080/",
          "height": 136
        },
        "outputId": "787a8b87-8df0-4361-d9ef-6392cef92633"
      },
      "cell_type": "code",
      "source": [
        "from keras.datasets import cifar10\n",
        "\n",
        "(X_train, y_train), (X_test, y_test) = cifar10.load_data()\n",
        "# All the data comes in the uint8 format, so we need to convert\n",
        "# it to floats so that we compute numbers greater than 255.\n",
        "X_train = X_train.astype(np.float)\n",
        "X_test = X_test.astype(np.float)\n",
        "# Also, for convenience we flatten the class arrays.\n",
        "y_train = y_train.flatten()\n",
        "y_test = y_test.flatten()\n",
        "print('Training data shape: ', X_train.shape)\n",
        "print('Training labels shape: ', y_train.shape)\n",
        "print('Test data shape: ', X_test.shape)\n",
        "print('Test labels shape: ', y_test.shape)"
      ],
      "execution_count": 2,
      "outputs": [
        {
          "output_type": "stream",
          "text": [
            "Using TensorFlow backend.\n"
          ],
          "name": "stderr"
        },
        {
          "output_type": "stream",
          "text": [
            "Downloading data from https://www.cs.toronto.edu/~kriz/cifar-10-python.tar.gz\n",
            "170500096/170498071 [==============================] - 28s 0us/step\n",
            "Training data shape:  (50000, 32, 32, 3)\n",
            "Training labels shape:  (50000,)\n",
            "Test data shape:  (10000, 32, 32, 3)\n",
            "Test labels shape:  (10000,)\n"
          ],
          "name": "stdout"
        }
      ]
    },
    {
      "metadata": {
        "id": "aIhIkKhfQEBc",
        "colab_type": "text"
      },
      "cell_type": "markdown",
      "source": [
        "## Visualize CIFAR-10 examples"
      ]
    },
    {
      "metadata": {
        "id": "lYBbnj8K6IeS",
        "colab_type": "code",
        "colab": {}
      },
      "cell_type": "code",
      "source": [
        "# We show a few examples of training images from each class.\n",
        "classes = ['plane', 'car', 'bird', 'cat', 'deer', 'dog', 'frog', 'horse', 'ship', 'truck']\n",
        "num_classes = len(classes)\n",
        "samples_per_class = 7\n",
        "for y, cls in enumerate(classes):\n",
        "    idxs = np.flatnonzero(y_train == y)\n",
        "    idxs = np.random.choice(idxs, samples_per_class, replace=False)\n",
        "    for i, idx in enumerate(idxs):\n",
        "        plt_idx = i * num_classes + y + 1\n",
        "        plt.subplot(samples_per_class, num_classes, plt_idx)\n",
        "        plt.imshow(X_train[idx].astype('uint8'))\n",
        "        plt.axis('off')\n",
        "        if i == 0:\n",
        "            plt.title(cls)"
      ],
      "execution_count": 0,
      "outputs": []
    },
    {
      "metadata": {
        "id": "-tgjYtpZQKdr",
        "colab_type": "text"
      },
      "cell_type": "markdown",
      "source": [
        "Because KNN classifiers compute the distance between all pairs of test and train data, we reduce the size of each set so that code executes in a reasonable amount of time.\n"
      ]
    },
    {
      "metadata": {
        "id": "ONxZFuP56IeV",
        "colab_type": "code",
        "colab": {}
      },
      "cell_type": "code",
      "source": [
        "num_training = 5000\n",
        "mask = np.arange(num_training)\n",
        "X_train = X_train[mask]\n",
        "y_train = y_train[mask]\n",
        "\n",
        "num_test = 500\n",
        "mask = np.arange(num_test)\n",
        "X_test = X_test[mask]\n",
        "y_test = y_test[mask]"
      ],
      "execution_count": 0,
      "outputs": []
    },
    {
      "metadata": {
        "id": "iC0fXryV6IeY",
        "colab_type": "code",
        "colab": {}
      },
      "cell_type": "code",
      "source": [
        "# Reshape the image data into rows\n",
        "X_train = np.reshape(X_train, (X_train.shape[0], -1))\n",
        "X_test = np.reshape(X_test, (X_test.shape[0], -1))\n",
        "print(X_train.shape, X_test.shape)"
      ],
      "execution_count": 0,
      "outputs": []
    },
    {
      "metadata": {
        "id": "CaRosiFHaYUM",
        "colab_type": "text"
      },
      "cell_type": "markdown",
      "source": [
        "## Define KNN classifier\n",
        "\n",
        "Next we define the `KNearestNeighbor` class.  Most of the code for this class already exists, but you will need to write code of your own to finish it.  Go ahead an execute the following cell, but prepare to refer back to this cell many times as you proceed through the notebook.  Note that at the last couple of lines of the following cell actually instantiate the class and \"train\" it."
      ]
    },
    {
      "metadata": {
        "id": "ry2XPvUH6Ieb",
        "colab_type": "code",
        "colab": {}
      },
      "cell_type": "code",
      "source": [
        " class KNearestNeighbor(object):\n",
        "  \"\"\" a kNN classifier with L2 distance \"\"\"\n",
        "\n",
        "  def __init__(self):\n",
        "    pass\n",
        "\n",
        "  def train(self, X, y):\n",
        "    \"\"\"\n",
        "    Train the classifier. For k-nearest neighbors this is just \n",
        "    memorizing the training data.\n",
        "\n",
        "    Inputs:\n",
        "    - X: A numpy array of shape (num_train, D) containing the training data\n",
        "      consisting of num_train samples each of dimension D.\n",
        "    - y: A numpy array of shape (N,) containing the training labels, where\n",
        "         y[i] is the label for X[i].\n",
        "    \"\"\"\n",
        "    self.X_train = X\n",
        "    self.y_train = y\n",
        "    \n",
        "  def predict(self, X, k=1, num_loops=0):\n",
        "    \"\"\"\n",
        "    Predict labels for test data using this classifier.\n",
        "\n",
        "    Inputs:\n",
        "    - X: A numpy array of shape (num_test, D) containing test data consisting\n",
        "         of num_test samples each of dimension D.\n",
        "    - k: The number of nearest neighbors that vote for the predicted labels.\n",
        "    - num_loops: Determines which implementation to use to compute distances\n",
        "      between training points and testing points.\n",
        "\n",
        "    Returns:\n",
        "    - y: A numpy array of shape (num_test,) containing predicted labels for the\n",
        "      test data, where y[i] is the predicted label for the test point X[i].  \n",
        "    \"\"\"\n",
        "    if num_loops == 0:\n",
        "      dists = self.compute_distances_no_loops(X)\n",
        "    elif num_loops == 1:\n",
        "      dists = self.compute_distances_one_loop(X)\n",
        "    elif num_loops == 2:\n",
        "      dists = self.compute_distances_two_loops(X)\n",
        "    else:\n",
        "      raise ValueError('Invalid value %d for num_loops' % num_loops)\n",
        "\n",
        "    return self.predict_labels(dists, k=k)\n",
        "\n",
        "  def compute_distances_two_loops(self, X):\n",
        "    \"\"\"\n",
        "    Compute the distance between each test point in X and each training point\n",
        "    in self.X_train using a nested loop over both the training data and the \n",
        "    test data.\n",
        "\n",
        "    Inputs:\n",
        "    - X: A numpy array of shape (num_test, D) containing test data.\n",
        "\n",
        "    Returns:\n",
        "    - dists: A numpy array of shape (num_test, num_train) where dists[i, j]\n",
        "      is the Euclidean distance between the ith test point and the jth training\n",
        "      point.\n",
        "    \"\"\"\n",
        "    num_test = X.shape[0]\n",
        "    num_train = self.X_train.shape[0]\n",
        "    dists = np.zeros((num_test, num_train))\n",
        "    for i in range(num_test):\n",
        "      for j in range(num_train):\n",
        "        #####################################################################\n",
        "        # TODO:                                                             #\n",
        "        # Compute the l2 distance between the ith test point and the jth    #\n",
        "        # training point, and store the result in dists[i, j]. You should   #\n",
        "        # not use a loop over dimension.                                    #\n",
        "        #####################################################################\n",
        "        pass\n",
        "        #####################################################################\n",
        "        #                       END OF YOUR CODE                            #\n",
        "        #####################################################################\n",
        "    return dists\n",
        "\n",
        "  def compute_distances_one_loop(self, X):\n",
        "    \"\"\"\n",
        "    Compute the distance between each test point in X and each training point\n",
        "    in self.X_train using a single loop over the test data.\n",
        "\n",
        "    Input / Output: Same as compute_distances_two_loops\n",
        "    \"\"\"\n",
        "    num_test = X.shape[0]\n",
        "    num_train = self.X_train.shape[0]\n",
        "    dists = np.zeros((num_test, num_train))\n",
        "    for i in range(num_test):\n",
        "      #######################################################################\n",
        "      # TODO:                                                               #\n",
        "      # Compute the l2 distance between the ith test point and all training #\n",
        "      # points, and store the result in dists[i, :].                        #\n",
        "      #######################################################################\n",
        "      pass\n",
        "      #######################################################################\n",
        "      #                         END OF YOUR CODE                            #\n",
        "      #######################################################################\n",
        "    return dists\n",
        "\n",
        "  def compute_distances_no_loops(self, X):\n",
        "    \"\"\"\n",
        "    Compute the distance between each test point in X and each training point\n",
        "    in self.X_train using no explicit loops.\n",
        "\n",
        "    Input / Output: Same as compute_distances_two_loops\n",
        "    \"\"\"\n",
        "    num_test = X.shape[0]\n",
        "    num_train = self.X_train.shape[0]\n",
        "    dists = np.zeros((num_test, num_train)) \n",
        "    #########################################################################\n",
        "    # TODO:                                                                 #\n",
        "    # Compute the l2 distance between all test points and all training      #\n",
        "    # points without using any explicit loops, and store the result in      #\n",
        "    # dists.                                                                #\n",
        "    #                                                                       #\n",
        "    # You should implement this function using only basic array operations; #\n",
        "    # in particular you should not use functions from scipy.                #\n",
        "    #                                                                       #\n",
        "    # HINT: Try to formulate the l2 distance using matrix multiplication    #\n",
        "    #       and two broadcast sums.                                         #\n",
        "    #########################################################################\n",
        "    pass\n",
        "    #########################################################################\n",
        "    #                         END OF YOUR CODE                              #\n",
        "    #########################################################################\n",
        "    return dists\n",
        "\n",
        "  def predict_labels(self, dists, k=1):\n",
        "    \"\"\"\n",
        "    Given a matrix of distances between test points and training points,\n",
        "    predict a label for each test point.\n",
        "\n",
        "    Inputs:\n",
        "    - dists: A numpy array of shape (num_test, num_train) where dists[i, j]\n",
        "      gives the distance betwen the ith test point and the jth training point.\n",
        "\n",
        "    Returns:\n",
        "    - y: A numpy array of shape (num_test,) containing predicted labels for the\n",
        "      test data, where y[i] is the predicted label for the test point X[i].  \n",
        "    \"\"\"\n",
        "    num_test = dists.shape[0]\n",
        "    y_pred = np.zeros(num_test, dtype=np.int)\n",
        "    for i in range(num_test):\n",
        "      # A list of length k storing the labels of the k nearest neighbors to\n",
        "      # the ith test point.\n",
        "      closest_y = []\n",
        "      #########################################################################\n",
        "      # TODO:                                                                 #\n",
        "      # Use the distance matrix to find the k nearest neighbors of the ith    #\n",
        "      # testing point, and use self.y_train to find the labels of these       #\n",
        "      # neighbors. Store these labels in closest_y.                           #\n",
        "      # Hint: Look up the function numpy.argsort.                             #\n",
        "      #########################################################################\n",
        "      pass\n",
        "      #########################################################################\n",
        "      # TODO:                                                                 #\n",
        "      # Now that you have found the labels of the k nearest neighbors, you    #\n",
        "      # need to find the most common label in the list closest_y of labels.   #\n",
        "      # Store this label in y_pred[i]. Break ties by choosing the smaller     #\n",
        "      # label.                                                                #\n",
        "      # Hint: Look up the functions numpy.bincount and numpy.argmax           #\n",
        "      #########################################################################\n",
        "      pass\n",
        "      #########################################################################\n",
        "      #                           END OF YOUR CODE                            # \n",
        "      #########################################################################\n",
        "\n",
        "    return y_pred\n",
        "\n",
        "\n",
        "# Create a kNN classifier instance. \n",
        "# Remember that training a kNN classifier is a noop: \n",
        "# the Classifier simply remembers the data and does no further processing \n",
        "classifier = KNearestNeighbor()\n",
        "classifier.train(X_train, y_train)"
      ],
      "execution_count": 0,
      "outputs": []
    },
    {
      "metadata": {
        "id": "6Pnw1-SiQdch",
        "colab_type": "text"
      },
      "cell_type": "markdown",
      "source": [
        "## Classify the test data"
      ]
    },
    {
      "metadata": {
        "id": "OFNIZjwl6Iee",
        "colab_type": "text"
      },
      "cell_type": "markdown",
      "source": [
        "We would now like to classify the test data with the kNN classifier. Recall that we can break down this process into two steps: \n",
        "\n",
        "1. First we must compute the distances between all test examples and all train examples. \n",
        "2. Given these distances, for each test example we find the k nearest examples and have them vote for the label\n",
        "\n",
        "Lets begin with computing the distance matrix between all training and test examples. For example, if there are $N_{train}$ training examples and $N_{test}$ test examples, this stage should result in a $N_{test} \\times N_{train}$ matrix where each element (i,j) is the distance between the i-th test and j-th train example.\n",
        "\n",
        "First, implement the method `compute_distances_two_loops` in the object `KNearestNeighbor` above.  It uses a (very inefficient) double loop over all pairs of (test, train) examples and computes the distance matrix one element at a time.\n",
        "\n",
        "Don't forget to re-execute the cell after writing the code!"
      ]
    },
    {
      "metadata": {
        "id": "JOIR0glX6Ief",
        "colab_type": "code",
        "colab": {}
      },
      "cell_type": "code",
      "source": [
        "# Test your implementation:\n",
        "dists = classifier.compute_distances_two_loops(X_test)\n",
        "print(dists.shape)"
      ],
      "execution_count": 0,
      "outputs": []
    },
    {
      "metadata": {
        "id": "v3uoX4nsiV-J",
        "colab_type": "text"
      },
      "cell_type": "markdown",
      "source": [
        "Let's visualize this distance matrix!\n"
      ]
    },
    {
      "metadata": {
        "id": "ja-H5WBT6Iei",
        "colab_type": "code",
        "colab": {}
      },
      "cell_type": "code",
      "source": [
        "with sns.axes_style('white'):\n",
        "  plt.imshow(dists, aspect='auto', cmap='hot')\n",
        "  plt.colorbar()"
      ],
      "execution_count": 0,
      "outputs": []
    },
    {
      "metadata": {
        "id": "0avGy4SfcpT3",
        "colab_type": "text"
      },
      "cell_type": "markdown",
      "source": [
        "### Inline Question 1:\n",
        "Notice the structured patterns in the distance matrix, and consider the following questions:\n",
        "\n",
        "- Why are some rows really bright?\n",
        "- Why are some columns mostly dark?\n",
        "\n",
        "**Your Answer:** *fill this in.*"
      ]
    },
    {
      "metadata": {
        "id": "Tslbj-P2c-dg",
        "colab_type": "text"
      },
      "cell_type": "markdown",
      "source": [
        "Now implement the method `predict_labels` in the class `KNearestNeighbors` above and run the code below.\n",
        "\n",
        "Don't forget to re-run the `KNearestNeighbors` cell after writing the code!"
      ]
    },
    {
      "metadata": {
        "id": "dIcmuCxc6Ien",
        "colab_type": "code",
        "colab": {}
      },
      "cell_type": "code",
      "source": [
        "# We use k = 1 (which is Nearest Neighbor).\n",
        "y_test_pred = classifier.predict_labels(dists, k=1)\n",
        "\n",
        "# Compute and print the fraction of correctly predicted examples\n",
        "num_correct = np.sum(y_test_pred == y_test)\n",
        "accuracy = float(num_correct) / num_test\n",
        "print('Got %d / %d correct => accuracy: %f' % (num_correct, num_test, accuracy))"
      ],
      "execution_count": 0,
      "outputs": []
    },
    {
      "metadata": {
        "id": "lfuZwdeP6Ieq",
        "colab_type": "text"
      },
      "cell_type": "markdown",
      "source": [
        "You should expect to see approximately `27%` accuracy. Now lets try out a larger `k`, say `k = 5`:"
      ]
    },
    {
      "metadata": {
        "id": "RQVIXhsy6Ies",
        "colab_type": "code",
        "colab": {}
      },
      "cell_type": "code",
      "source": [
        "y_test_pred = classifier.predict_labels(dists, k=5)\n",
        "num_correct = np.sum(y_test_pred == y_test)\n",
        "accuracy = float(num_correct) / num_test\n",
        "print('Got %d / %d correct => accuracy: %f' % (num_correct, num_test, accuracy))"
      ],
      "execution_count": 0,
      "outputs": []
    },
    {
      "metadata": {
        "id": "R6jGH_Pb6Iev",
        "colab_type": "text"
      },
      "cell_type": "markdown",
      "source": [
        "You should expect to see slightly higher accuracy than with `k = 1`."
      ]
    },
    {
      "metadata": {
        "id": "MWK-wJZI6Iew",
        "colab_type": "code",
        "colab": {}
      },
      "cell_type": "code",
      "source": [
        "# Now lets speed up distance matrix computation by using partial vectorization\n",
        "# with one loop. Implement the function compute_distances_one_loop and run the\n",
        "# code below:\n",
        "dists_one = classifier.compute_distances_one_loop(X_test)\n",
        "\n",
        "# To ensure that our vectorized implementation is correct, we make sure that it\n",
        "# agrees with the naive implementation. There are many ways to decide whether\n",
        "# two matrices are similar; one of the simplest is the Frobenius norm. In case\n",
        "# you haven't seen it before, the Frobenius norm of two matrices is the square\n",
        "# root of the squared sum of differences of all elements; in other words, reshape\n",
        "# the matrices into vectors and compute the Euclidean distance between them.\n",
        "difference = np.linalg.norm(dists - dists_one)\n",
        "print('Difference was: %f' % (difference, ))\n",
        "if difference < 0.001:\n",
        "    print('Good! The distance matrices are the same')\n",
        "else:\n",
        "    print('Uh-oh! The distance matrices are different')"
      ],
      "execution_count": 0,
      "outputs": []
    },
    {
      "metadata": {
        "id": "n28tIvco6Iey",
        "colab_type": "code",
        "colab": {}
      },
      "cell_type": "code",
      "source": [
        "# Now implement the fully vectorized version inside compute_distances_no_loops\n",
        "# and run the code\n",
        "dists_two = classifier.compute_distances_no_loops(X_test)\n",
        "\n",
        "# check that the distance matrix agrees with the one we computed before:\n",
        "difference = np.linalg.norm(dists - dists_two, ord='fro')\n",
        "print('Difference was: %f' % (difference, ))\n",
        "if difference < 0.001:\n",
        "    print('Good! The distance matrices are the same')\n",
        "else:\n",
        "    print('Uh-oh! The distance matrices are different')"
      ],
      "execution_count": 0,
      "outputs": []
    },
    {
      "metadata": {
        "id": "-oGE-5vq6Ie2",
        "colab_type": "code",
        "colab": {}
      },
      "cell_type": "code",
      "source": [
        "# Let's compare how fast the implementations are\n",
        "def time_function(f, *args):\n",
        "    \"\"\"\n",
        "    Call a function f with args and return the time (in seconds) that it took to execute.\n",
        "    \"\"\"\n",
        "    import time\n",
        "    tic = time.time()\n",
        "    f(*args)\n",
        "    toc = time.time()\n",
        "    return toc - tic\n",
        "\n",
        "two_loop_time = time_function(classifier.compute_distances_two_loops, X_test)\n",
        "print('Two loop version took %f seconds' % two_loop_time)\n",
        "\n",
        "one_loop_time = time_function(classifier.compute_distances_one_loop, X_test)\n",
        "print('One loop version took %f seconds' % one_loop_time)\n",
        "\n",
        "no_loop_time = time_function(classifier.compute_distances_no_loops, X_test)\n",
        "print('No loop version took %f seconds' % no_loop_time)\n",
        "\n",
        "# you should see significantly faster performance with the fully vectorized implementation"
      ],
      "execution_count": 0,
      "outputs": []
    },
    {
      "metadata": {
        "id": "nRZxds3W6Ie_",
        "colab_type": "text"
      },
      "cell_type": "markdown",
      "source": [
        "### Cross-validation\n",
        "\n",
        "We have implemented the k-Nearest Neighbor classifier but we set the value k = 5 arbitrarily. We will now determine the best value of this hyperparameter with cross-validation."
      ]
    },
    {
      "metadata": {
        "id": "fGgbEQjI6IfB",
        "colab_type": "code",
        "colab": {}
      },
      "cell_type": "code",
      "source": [
        "num_folds = 5\n",
        "k_choices = [1, 3, 5, 8, 10, 12, 15, 20, 50, 100]\n",
        "\n",
        "X_train_folds = []\n",
        "y_train_folds = []\n",
        "################################################################################\n",
        "# TODO:                                                                        #\n",
        "# Split up the training data into folds. After splitting, X_train_folds and    #\n",
        "# y_train_folds should each be lists of length num_folds, where                #\n",
        "# y_train_folds[i] is the label vector for the points in X_train_folds[i].     #\n",
        "# Hint: Look up the numpy.array_split function.                                #\n",
        "################################################################################\n",
        "pass\n",
        "################################################################################\n",
        "#                                 END OF YOUR CODE                             #\n",
        "################################################################################\n",
        "\n",
        "# A dictionary holding the accuracies for different values of k that we find\n",
        "# when running cross-validation. After running cross-validation,\n",
        "# k_to_accuracies[k] should be a list of length num_folds giving the different\n",
        "# accuracy values that we found when using that value of k.\n",
        "k_to_accuracies = {}\n",
        "\n",
        "\n",
        "################################################################################\n",
        "# TODO:                                                                        #\n",
        "# Perform k-fold cross validation to find the best value of k. For each        #\n",
        "# possible value of k, run the k-nearest-neighbor algorithm num_folds times,   #\n",
        "# where in each case you use all but one of the folds as training data and the #\n",
        "# last fold as a validation set. Store the accuracies for all fold and all     #\n",
        "# values of k in the k_to_accuracies dictionary.                               #\n",
        "################################################################################\n",
        "pass\n",
        "################################################################################\n",
        "#                                 END OF YOUR CODE                             #\n",
        "################################################################################\n",
        "\n",
        "# Print out the computed accuracies\n",
        "for k in sorted(k_to_accuracies):\n",
        "    for accuracy in k_to_accuracies[k]:\n",
        "        print('k = %d, accuracy = %f' % (k, accuracy))"
      ],
      "execution_count": 0,
      "outputs": []
    },
    {
      "metadata": {
        "id": "pcP2Yywj6IfF",
        "colab_type": "code",
        "colab": {}
      },
      "cell_type": "code",
      "source": [
        "# plot the raw observations\n",
        "for k in k_choices:\n",
        "    accuracies = k_to_accuracies[k]\n",
        "    plt.scatter([k] * len(accuracies), accuracies)\n",
        "\n",
        "# plot the trend line with error bars that correspond to standard deviation\n",
        "accuracies_mean = np.array([np.mean(v) for k,v in sorted(k_to_accuracies.items())])\n",
        "accuracies_std = np.array([np.std(v) for k,v in sorted(k_to_accuracies.items())])\n",
        "plt.errorbar(k_choices, accuracies_mean, yerr=accuracies_std)\n",
        "plt.title('Cross-validation on k')\n",
        "plt.xlabel('k')\n",
        "plt.ylabel('Cross-validation accuracy')"
      ],
      "execution_count": 0,
      "outputs": []
    },
    {
      "metadata": {
        "id": "RPRp50jU6IfI",
        "colab_type": "code",
        "colab": {}
      },
      "cell_type": "code",
      "source": [
        "# Based on the cross-validation results above, choose the best value for k,   \n",
        "# retrain the classifier using all the training data, and test it on the test\n",
        "# data. You should be able to get above 28% accuracy on the test data.\n",
        "best_k = 10\n",
        "\n",
        "classifier = KNearestNeighbor()\n",
        "classifier.train(X_train, y_train)\n",
        "y_test_pred = classifier.predict(X_test, k=best_k)\n",
        "\n",
        "# Compute and display the accuracy\n",
        "num_correct = np.sum(y_test_pred == y_test)\n",
        "accuracy = float(num_correct) / num_test\n",
        "print('Got %d / %d correct => accuracy: %f' % (num_correct, num_test, accuracy))"
      ],
      "execution_count": 0,
      "outputs": []
    },
    {
      "metadata": {
        "id": "g4CWqP3nfD3E",
        "colab_type": "text"
      },
      "cell_type": "markdown",
      "source": [
        "*Many thanks to Stanford CS231n for permission to use their materials!*"
      ]
    }
  ]
}